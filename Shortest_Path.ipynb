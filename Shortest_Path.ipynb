{
  "nbformat": 4,
  "nbformat_minor": 0,
  "metadata": {
    "colab": {
      "provenance": []
    },
    "kernelspec": {
      "name": "python3",
      "display_name": "Python 3"
    },
    "language_info": {
      "name": "python"
    }
  },
  "cells": [
    {
      "cell_type": "code",
      "source": [
        "import ipywidgets as widgets\n",
        "from IPython.display import display\n",
        "import networkx as nx\n",
        "import matplotlib.pyplot as plt\n",
        "import heapq\n",
        "from queue import PriorityQueue\n",
        "import numpy as np\n"
      ],
      "metadata": {
        "id": "yMouwoOv9rjQ"
      },
      "execution_count": 7,
      "outputs": []
    },
    {
      "cell_type": "code",
      "source": [
        "class Graph:\n",
        "    def __init__(self, vertices):\n",
        "        self.V = vertices\n",
        "        self.graph = {i: [] for i in range(vertices)}\n",
        "\n",
        "    def add_edge(self, u, v, weight):\n",
        "        self.graph[u].append((v, weight))\n",
        "        self.graph[v].append((u, weight))  # Undirected Graph\n"
      ],
      "metadata": {
        "id": "fH4TwGqT9wXb"
      },
      "execution_count": 10,
      "outputs": []
    },
    {
      "cell_type": "code",
      "source": [
        "# Input number of nodes and edges\n",
        "num_nodes = int(input(\"Enter the number of nodes: \"))\n",
        "num_edges = int(input(\"Enter the number of edges: \"))\n",
        "\n",
        "graph = Graph(num_nodes)\n",
        "\n",
        "# Input edges (node1, node2, weight)\n",
        "print(\"\\nEnter edges in the format: node1 node2 weight\")\n",
        "for _ in range(num_edges):\n",
        "    u, v, w = map(int, input().split())\n",
        "    graph.add_edge(u, v, w)\n"
      ],
      "metadata": {
        "colab": {
          "base_uri": "https://localhost:8080/"
        },
        "id": "S-EL2nWG-F2W",
        "outputId": "4a66e588-f835-4776-853d-07e623797e4c"
      },
      "execution_count": 11,
      "outputs": [
        {
          "name": "stdout",
          "output_type": "stream",
          "text": [
            "Enter the number of nodes: 5\n",
            "Enter the number of edges: 6\n",
            "\n",
            "Enter edges in the format: node1 node2 weight\n",
            "0 1 4\n",
            "0 2 2\n",
            "1 3 5\n",
            "1 2 1\n",
            "2 3 3\n",
            "3 4 2\n"
          ]
        }
      ]
    },
    {
      "cell_type": "code",
      "source": [
        "# Function to draw the graph using NetworkX\n",
        "def draw_graph(graph):\n",
        "    G = nx.Graph()\n",
        "    for node in graph.graph:\n",
        "        for neighbor, weight in graph.graph[node]:\n",
        "            G.add_edge(node, neighbor, weight=weight)\n",
        "\n",
        "    pos = nx.spring_layout(G)\n",
        "    nx.draw(G, pos, with_labels=True, node_color='lightblue', node_size=2000, font_size=12)\n",
        "    edge_labels = nx.get_edge_attributes(G, 'weight')\n",
        "    nx.draw_networkx_edge_labels(G, pos, edge_labels=edge_labels)\n",
        "    plt.show()\n",
        "\n",
        "draw_graph(graph)\n"
      ],
      "metadata": {
        "colab": {
          "base_uri": "https://localhost:8080/",
          "height": 516
        },
        "id": "AUB1StjU-crA",
        "outputId": "69e5b496-04a9-4b2c-ea87-771c236d0455"
      },
      "execution_count": 12,
      "outputs": [
        {
          "output_type": "display_data",
          "data": {
            "text/plain": [
              "<Figure size 640x480 with 1 Axes>"
            ],
            "image/png": "[encoded data removed]"
          },
          "metadata": {}
        }
      ]
    },
    {
      "cell_type": "code",
      "source": [
        "# Dijkstra's Algorithm\n",
        "def dijkstra(graph, start):\n",
        "    pq = [(0, start)]\n",
        "    distances = {node: float('inf') for node in graph}\n",
        "    distances[start] = 0\n",
        "\n",
        "    while pq:\n",
        "        current_dist, current_node = heapq.heappop(pq)\n",
        "\n",
        "        for neighbor, weight in graph[current_node]:\n",
        "            distance = current_dist + weight\n",
        "            if distance < distances[neighbor]:\n",
        "                distances[neighbor] = distance\n",
        "                heapq.heappush(pq, (distance, neighbor))\n",
        "\n",
        "    return distances\n"
      ],
      "metadata": {
        "id": "lbjw3-rc-jF5"
      },
      "execution_count": 13,
      "outputs": []
    },
    {
      "cell_type": "code",
      "source": [
        "# A* Algorithm\n",
        "def heuristic(a, b):\n",
        "    return abs(a - b)  # Example heuristic (Manhattan Distance)\n",
        "\n",
        "def astar(graph, start, goal):\n",
        "    pq = PriorityQueue()\n",
        "    pq.put((0, start))\n",
        "    came_from = {start: None}\n",
        "    cost_so_far = {start: 0}\n",
        "\n",
        "    while not pq.empty():\n",
        "        _, current = pq.get()\n",
        "\n",
        "        if current == goal:\n",
        "            break\n",
        "\n",
        "        for neighbor, weight in graph[current]:\n",
        "            new_cost = cost_so_far[current] + weight\n",
        "            if neighbor not in cost_so_far or new_cost < cost_so_far[neighbor]:\n",
        "                cost_so_far[neighbor] = new_cost\n",
        "                priority = new_cost + heuristic(neighbor, goal)\n",
        "                pq.put((priority, neighbor))\n",
        "                came_from[neighbor] = current\n",
        "\n",
        "    return cost_so_far, came_from\n"
      ],
      "metadata": {
        "id": "1aZVo9bG-qVd"
      },
      "execution_count": 14,
      "outputs": []
    },
    {
      "cell_type": "code",
      "source": [
        "# Bellman-Ford Algorithm\n",
        "def bellman_ford(graph, start):\n",
        "    distance = {node: float('inf') for node in graph}\n",
        "    distance[start] = 0\n",
        "\n",
        "    for _ in range(len(graph) - 1):\n",
        "        for node in graph:\n",
        "            for neighbor, weight in graph[node]:\n",
        "                if distance[node] + weight < distance[neighbor]:\n",
        "                    distance[neighbor] = distance[node] + weight\n",
        "\n",
        "    return distance\n"
      ],
      "metadata": {
        "id": "zSNPI8A6-tUq"
      },
      "execution_count": 15,
      "outputs": []
    },
    {
      "cell_type": "code",
      "source": [
        "# Floyd-Warshall Algorithm\n",
        "def floyd_warshall(graph):\n",
        "    V = len(graph)\n",
        "    dist = np.full((V, V), float('inf'))\n",
        "    np.fill_diagonal(dist, 0)\n",
        "\n",
        "    for node in graph:\n",
        "        for neighbor, weight in graph[node]:\n",
        "            dist[node][neighbor] = weight\n",
        "\n",
        "    for k in range(V):\n",
        "        for i in range(V):\n",
        "            for j in range(V):\n",
        "                dist[i][j] = min(dist[i][j], dist[i][k] + dist[k][j])\n",
        "\n",
        "    return dist\n"
      ],
      "metadata": {
        "id": "R21fpgni-wR5"
      },
      "execution_count": 16,
      "outputs": []
    },
    {
      "cell_type": "code",
      "source": [
        "# Input start and goal nodes\n",
        "start_node = int(input(\"\\nEnter Start Node: \"))\n",
        "goal_node = int(input(\"Enter Goal Node: \"))\n"
      ],
      "metadata": {
        "colab": {
          "base_uri": "https://localhost:8080/"
        },
        "id": "nTYGiq7g-y5e",
        "outputId": "24c3a18b-8c9d-4233-de6c-925a89388c54"
      },
      "execution_count": 17,
      "outputs": [
        {
          "name": "stdout",
          "output_type": "stream",
          "text": [
            "\n",
            "Enter Start Node: 0\n",
            "Enter Goal Node: 4\n"
          ]
        }
      ]
    },
    {
      "cell_type": "code",
      "source": [
        "# Run algorithms\n",
        "print(\"\\n🔹 Running Dijkstra’s Algorithm...\")\n",
        "print(\"Shortest Distances:\", dijkstra(graph.graph, start_node))\n",
        "\n",
        "print(\"\\n🔹 Running A* Algorithm...\")\n",
        "cost_so_far, came_from = astar(graph.graph, start_node, goal_node)\n",
        "print(\"A* Path Cost:\", cost_so_far)\n",
        "\n",
        "print(\"\\n🔹 Running Bellman-Ford Algorithm...\")\n",
        "print(\"Shortest Distances:\", bellman_ford(graph.graph, start_node))\n",
        "\n",
        "print(\"\\n🔹 Running Floyd-Warshall Algorithm...\")\n",
        "print(\"Shortest Distances Matrix:\\n\", floyd_warshall(graph.graph))\n"
      ],
      "metadata": {
        "colab": {
          "base_uri": "https://localhost:8080/"
        },
        "id": "ERg4s3WG-4y3",
        "outputId": "e34a3cba-efb1-4228-e337-662832ac520e"
      },
      "execution_count": 18,
      "outputs": [
        {
          "output_type": "stream",
          "name": "stdout",
          "text": [
            "\n",
            "🔹 Running Dijkstra’s Algorithm...\n",
            "Shortest Distances: {0: 0, 1: 3, 2: 2, 3: 5, 4: 7}\n",
            "\n",
            "🔹 Running A* Algorithm...\n",
            "A* Path Cost: {0: 0, 1: 3, 2: 2, 3: 5, 4: 7}\n",
            "\n",
            "🔹 Running Bellman-Ford Algorithm...\n",
            "Shortest Distances: {0: 0, 1: 3, 2: 2, 3: 5, 4: 7}\n",
            "\n",
            "🔹 Running Floyd-Warshall Algorithm...\n",
            "Shortest Distances Matrix:\n",
            " [[0. 3. 2. 5. 7.]\n",
            " [3. 0. 1. 4. 6.]\n",
            " [2. 1. 0. 3. 5.]\n",
            " [5. 4. 3. 0. 2.]\n",
            " [7. 6. 5. 2. 0.]]\n"
          ]
        }
      ]
    }
  ]
}